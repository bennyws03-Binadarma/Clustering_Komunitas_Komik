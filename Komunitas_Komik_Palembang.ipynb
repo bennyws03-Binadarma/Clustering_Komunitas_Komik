{
 "cells": [
  {
   "cell_type": "code",
   "execution_count": 6,
   "metadata": {},
   "outputs": [],
   "source": [
    "import networkx as nx\n",
    "import matplotlib.pyplot as plt\n",
    "from multiprocessing import Pool\n",
    "import itertools\n",
    "import community"
   ]
  },
  {
   "cell_type": "code",
   "execution_count": 7,
   "metadata": {},
   "outputs": [
    {
     "name": "stdout",
     "output_type": "stream",
     "text": [
      "Name: \n",
      "Type: Graph\n",
      "Number of nodes: 358\n",
      "Number of edges: 357\n",
      "Average degree:   1.9944\n"
     ]
    }
   ],
   "source": [
    "#Exploratory Data Analysis\n",
    "G_Komunitas = nx.read_edgelist(\"D:/Mata Kuliah S2 MTI/Database/Data Komunitas Komik Palembang.txt\", create_using = nx.Graph(), nodetype = int)\n",
    "#Quick snapshot of the Network\n",
    "print (nx.info(G_Komunitas))"
   ]
  },
  {
   "cell_type": "code",
   "execution_count": 8,
   "metadata": {},
   "outputs": [
    {
     "data": {
      "image/png": "[encoded data removed]",
      "text/plain": [
       "<Figure size 432x288 with 1 Axes>"
      ]
     },
     "metadata": {},
     "output_type": "display_data"
    }
   ],
   "source": [
    "#Create network layout for visualizations\n",
    "spring_pos = nx.spring_layout(G_Komunitas)\n",
    "plt.axis(\"off\")\n",
    "nx.draw_networkx(G_Komunitas, pos = spring_pos, with_labels = False, node_size = 35)"
   ]
  },
  {
   "cell_type": "code",
   "execution_count": 9,
   "metadata": {},
   "outputs": [],
   "source": [
    "#Parallel Betweenness Centrality\n",
    "def partitions(nodes, n):\n",
    "    \"Partitions the nodes into n subsets\"\n",
    "    nodes_iter = iter(nodes)\n",
    "    while True:\n",
    "        partition = tuple(itertools.islice(nodes_iter,n))\n",
    "        if not partition:\n",
    "            return\n",
    "        yield partition\n",
    "        plt.show()\n",
    "def btwn_pool(G_tuple):\n",
    "    return nx.betweenness_centrality_source(*G_tuple)\n",
    "def between_parallel(G, processes = None):\n",
    "    p = Pool(processes=processes)\n",
    "    part_generator = 4*len(p._pool)\n",
    "    node_partitions = list(partitions(G.nodes(), int(len(G)/part_generator)))\n",
    "    num_partitions = len(node_partitions)\n",
    "    bet_map = p.map(btwn_pool,\n",
    "                        zip([G]*num_partitions,\n",
    "                        [True]*num_partitions,\n",
    "                        [None]*num_partitions,\n",
    "                        node_partitions))\n",
    "    bt_c = bet_map[0]\n",
    "    for bt in bet_map[1:]:\n",
    "        for n in bt:\n",
    "            bt_c[n] += bt[n]\n",
    "    return bt_c"
   ]
  },
  {
   "cell_type": "code",
   "execution_count": null,
   "metadata": {},
   "outputs": [],
   "source": [
    "if __name__ == '__main__':\n",
    "    bt = between_parallel(G_Komunitas)\n",
    "    top = 10\n",
    "\n",
    "    max_nodes =  sorted(bt.items(), key = lambda v: -v[1])[:top]\n",
    "    bt_values = [5]*len(G_Komunitas.nodes())\n",
    "    bt_colors = [0]*len(G_Komunitas.nodes())\n",
    "    for max_key, max_val in max_nodes:\n",
    "        bt_values[max_key] = 150\n",
    "        bt_colors[max_key] = 2\n",
    "        plt.show()\n",
    "    plt.axis(\"off\")\n",
    "    nx.draw_networkx(G_Komunitas, pos = spring_pos, cmap = plt.get_cmap(\"rainbow\"), node_color = bt_colors, node_size = bt_values, with_labels = False)\n",
    "    plt.show()"
   ]
  },
  {
   "cell_type": "code",
   "execution_count": null,
   "metadata": {},
   "outputs": [],
   "source": [
    " #Community Detection\n",
    "    parts = community.best_partition(G_Komunitas)\n",
    "    values = [parts.get(node) for node in G_Komunitas.nodes()]\n",
    "    plt.axis(\"off\")\n",
    "    nx.draw_networkx(G_Komunitas, pos = spring_pos, cmap = plt.get_cmap(\"jet\"), node_color = values, node_size = 35, with_labels = False)\n",
    "    plt.show()"
   ]
  }
 ],
 "metadata": {
  "kernelspec": {
   "display_name": "Python 2",
   "language": "python",
   "name": "python2"
  },
  "language_info": {
   "codemirror_mode": {
    "name": "ipython",
    "version": 2
   },
   "file_extension": ".py",
   "mimetype": "text/x-python",
   "name": "python",
   "nbconvert_exporter": "python",
   "pygments_lexer": "ipython2",
   "version": "2.7.15"
  }
 },
 "nbformat": 4,
 "nbformat_minor": 2
}
